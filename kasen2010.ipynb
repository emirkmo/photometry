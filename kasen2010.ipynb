{
 "cells": [
  {
   "cell_type": "markdown",
   "metadata": {},
   "source": [
    "# Collision of a Supernova with Its Companion\n",
    "## Kasen (2010) \n",
    "https://ui.adsabs.harvard.edu/abs/2010ApJ...708.1025K/"
   ]
  },
  {
   "cell_type": "code",
   "execution_count": 1,
   "metadata": {
    "jupyter": {
     "source_hidden": true
    }
   },
   "outputs": [],
   "source": [
    "import warnings\n",
    "\n",
    "import numpy as np\n",
    "\n",
    "import matplotlib.pyplot as plt\n",
    "\n",
    "from scipy.optimize import minimize\n",
    "\n",
    "from astropy import units as u\n",
    "from astropy.constants import sigma_sb, c, h \n",
    "from astropy.modeling.blackbody import blackbody_lambda"
   ]
  },
  {
   "cell_type": "markdown",
   "metadata": {},
   "source": [
    "Progenitor system"
   ]
  },
  {
   "cell_type": "code",
   "execution_count": 2,
   "metadata": {},
   "outputs": [],
   "source": [
    "# transition velocity for density profiles\n",
    "v = 10000 * u.km / u.s\n",
    "# ejecta mass\n",
    "M = 1.4 * u.M_sun\n",
    "# opacity\n",
    "K = 0.2 * u.cm**2 / u.g\n",
    "# mass ratio\n",
    "q = 1 / 1.4"
   ]
  },
  {
   "cell_type": "markdown",
   "metadata": {},
   "source": [
    "Photometric data"
   ]
  },
  {
   "cell_type": "code",
   "execution_count": 3,
   "metadata": {},
   "outputs": [],
   "source": [
    "# redshift\n",
    "z = 0.01\n",
    "# magntiude\n",
    "mag = 20\n",
    "# filter function\n",
    "fn = 'response.dat'\n",
    "# zeropoint\n",
    "zp = 15\n",
    "# distance modulus\n",
    "mu = 30"
   ]
  },
  {
   "cell_type": "code",
   "execution_count": 4,
   "metadata": {
    "jupyter": {
     "source_hidden": true
    }
   },
   "outputs": [
    {
     "data": {
      "image/png": "[encoded data removed]",
      "text/plain": [
       "<Figure size 432x288 with 1 Axes>"
      ]
     },
     "metadata": {
      "needs_background": "light"
     },
     "output_type": "display_data"
    }
   ],
   "source": [
    "def kasen(t, f, a_13, v_9, M_c, K_e):\n",
    "\n",
    "    L = 1e43 * a_13 * M_c**(1/4) * v_9**(7/4) * K_e**(-3/4) * t**(-1/2) * u.erg * u.s**(-1)\n",
    "    T = 2.5e4 * a_13**(1/4) * K_e**(-35/144) * t**(-37/72) * u.K\n",
    "    R = np.sqrt(L / T**4 / 4 / np.pi / sigma_sb)\n",
    "\n",
    "    with warnings.catch_warnings():\n",
    "        warnings.simplefilter('ignore')\n",
    "        BB = blackbody_lambda(f.wave / (1+z), T)\n",
    "\n",
    "    I = np.trapz(BB * f.flux * f.wave / c / h, f.wave) * u.sr\n",
    "    F = I * 4 * np.pi * R**2 / 4 / np.pi / (10*u.pc)**2\n",
    "\n",
    "    return -2.5 * np.log10((F.to(1 / u.cm**2 / u.s) / (1+z)).value) + f.zp\n",
    "\n",
    "a_13 = 1 # initial guess\n",
    "\n",
    "v_9 = v.to(1e9 * u.cm / u.s).value\n",
    "M_c = M.to(1.4 * u.Msun).value\n",
    "K_e = K.to(0.2 * u.cm**2 / u.g).value\n",
    "\n",
    "f = list(zip(('wave', 'flux'), np.loadtxt(fn, unpack=True)))\n",
    "f = type('filter', (object,), dict(f + [('zp', zp)]))\n",
    "f.wave *= u.AA\n",
    "\n",
    "# roche lobe radius (companion radius)\n",
    "r_L = lambda a: 0.49 * q**(2/3) / (0.6*q**(2/3) + np.log(1+q**(1/3))) * a\n",
    "\n",
    "def fmin(a_13, t, m, f, v_9, M_c, K_e):\n",
    "    a_13 = np.abs(a_13[0])\n",
    "    t -= 1e4 * a_13 / v_9 / (24*60*60)\n",
    "    if t <= 0: return np.inf\n",
    "    return (m - kasen(t, f, a_13, v_9, M_c, K_e))**2\n",
    "\n",
    "R, T = [], np.linspace(0, 5, 20)[1:] # days\n",
    "for t in T:\n",
    "    args = t, mag - mu, f, v_9, M_c, K_e\n",
    "    a_13 = np.abs(minimize(fmin, [a_13], args=args).x[0])\n",
    "    R.append(r_L(a_13 * 1e13 * u.cm).to(u.Rsun).value)\n",
    "\n",
    "plt.semilogy(-T, R)\n",
    "\n",
    "plt.title('Upper limit on companion radius\\n as a function of the time of explosion')\n",
    "plt.xlabel('Time relative to photometric point [days]')\n",
    "plt.ylabel('Upper limit on companion radius [$R_\\odot$]')\n",
    "\n",
    "plt.xlim(plt.gca().get_xlim()[0], 0)\n",
    "plt.show()"
   ]
  }
 ],
 "metadata": {
  "kernelspec": {
   "display_name": "Python 3",
   "language": "python",
   "name": "python3"
  },
  "language_info": {
   "codemirror_mode": {
    "name": "ipython",
    "version": 3
   },
   "file_extension": ".py",
   "mimetype": "text/x-python",
   "name": "python",
   "nbconvert_exporter": "python",
   "pygments_lexer": "ipython3",
   "version": "3.8.2"
  }
 },
 "nbformat": 4,
 "nbformat_minor": 4
}
